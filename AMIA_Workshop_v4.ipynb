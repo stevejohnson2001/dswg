{
 "cells": [
  {
   "cell_type": "markdown",
   "metadata": {
    "colab_type": "text",
    "id": "eEImJEQ_u4B_"
   },
   "source": [
    "!pip install --upgrade --force-reinstall plotly"
   ]
  },
  {
   "cell_type": "markdown",
   "metadata": {
    "colab_type": "text",
    "id": "QDvLFJcIxaah"
   },
   "source": [
    "# 1.0 Setup"
   ]
  },
  {
   "cell_type": "code",
   "execution_count": null,
   "metadata": {
    "colab": {
     "autoexec": {
      "startup": false,
      "wait_interval": 0
     },
     "base_uri": "https://localhost:8080/",
     "height": 2298
    },
    "colab_type": "code",
    "executionInfo": {
     "elapsed": 44609,
     "status": "ok",
     "timestamp": 1524768098732,
     "user": {
      "displayName": "Steve Johnson",
      "photoUrl": "//lh3.googleusercontent.com/-aWoUrtEbcoA/AAAAAAAAAAI/AAAAAAAAAgw/MZkRYHRUBoo/s50-c-k-no/photo.jpg",
      "userId": "111376329577814829723"
     },
     "user_tz": 300
    },
    "id": "yB7O_74iuWsa",
    "outputId": "f2022294-b8d3-4d59-b974-99b941a976a2"
   },
   "outputs": [],
   "source": [
    "#import importlib\n",
    "#plotly_spec = importlib.util.find_spec('plotly')\n",
    "#print(plotly_spec)\n",
    "#if plotly_spec is None:\n",
    "#    print('Installing plotly...')\n",
    "!pip install --upgrade --force-reinstall plotly\n",
    "!pip install geopandas==0.3.0\n",
    "!pip install pyshp==1.2.10\n",
    "!pip install shapely==1.6.3\n",
    "!pip install xlrd"
   ]
  },
  {
   "cell_type": "code",
   "execution_count": null,
   "metadata": {
    "colab": {
     "autoexec": {
      "startup": false,
      "wait_interval": 0
     },
     "base_uri": "https://localhost:8080/",
     "height": 17
    },
    "colab_type": "code",
    "executionInfo": {
     "elapsed": 790,
     "status": "ok",
     "timestamp": 1524775496284,
     "user": {
      "displayName": "Steve Johnson",
      "photoUrl": "//lh3.googleusercontent.com/-aWoUrtEbcoA/AAAAAAAAAAI/AAAAAAAAAgw/MZkRYHRUBoo/s50-c-k-no/photo.jpg",
      "userId": "111376329577814829723"
     },
     "user_tz": 300
    },
    "id": "AVqO021euWsf",
    "outputId": "51b73eac-399f-45a1-cfa5-62cc7215a373"
   },
   "outputs": [],
   "source": [
    "import pandas as pd\n",
    "import numpy as np\n",
    "from matplotlib import pyplot as plt\n",
    "import seaborn as sns\n",
    "%matplotlib inline\n",
    "import plotly.plotly as py\n",
    "import plotly.figure_factory as ff\n",
    "from plotly import __version__\n",
    "from plotly.offline import download_plotlyjs, init_notebook_mode, plot, iplot\n",
    "from plotly.graph_objs import Scatter, Figure, Layout\n",
    "from IPython.display import display, HTML\n",
    "init_notebook_mode(connected=True)\n",
    "import os\n",
    "from os import listdir"
   ]
  },
  {
   "cell_type": "code",
   "execution_count": null,
   "metadata": {
    "colab": {
     "autoexec": {
      "startup": false,
      "wait_interval": 0
     },
     "base_uri": "https://localhost:8080/",
     "height": 34
    },
    "colab_type": "code",
    "executionInfo": {
     "elapsed": 1311,
     "status": "ok",
     "timestamp": 1524767603228,
     "user": {
      "displayName": "Steve Johnson",
      "photoUrl": "//lh3.googleusercontent.com/-aWoUrtEbcoA/AAAAAAAAAAI/AAAAAAAAAgw/MZkRYHRUBoo/s50-c-k-no/photo.jpg",
      "userId": "111376329577814829723"
     },
     "user_tz": 300
    },
    "id": "Fbfw4wa3uWsi",
    "outputId": "d24b03fc-bd8e-409e-a648-ba9f569c134f"
   },
   "outputs": [],
   "source": [
    "!ls -la dswg/data"
   ]
  },
  {
   "cell_type": "code",
   "execution_count": null,
   "metadata": {
    "colab": {
     "autoexec": {
      "startup": false,
      "wait_interval": 0
     },
     "base_uri": "https://localhost:8080/",
     "height": 34
    },
    "colab_type": "code",
    "executionInfo": {
     "elapsed": 1259,
     "status": "ok",
     "timestamp": 1524767634371,
     "user": {
      "displayName": "Steve Johnson",
      "photoUrl": "//lh3.googleusercontent.com/-aWoUrtEbcoA/AAAAAAAAAAI/AAAAAAAAAgw/MZkRYHRUBoo/s50-c-k-no/photo.jpg",
      "userId": "111376329577814829723"
     },
     "user_tz": 300
    },
    "id": "addtcaZGO6B4",
    "outputId": "a3a9b36b-8956-4d40-f20e-8d01ef22025e"
   },
   "outputs": [],
   "source": [
    "!pwd"
   ]
  },
  {
   "cell_type": "code",
   "execution_count": null,
   "metadata": {
    "colab": {
     "autoexec": {
      "startup": false,
      "wait_interval": 0
     },
     "base_uri": "https://localhost:8080/",
     "height": 51
    },
    "colab_type": "code",
    "executionInfo": {
     "elapsed": 240,
     "status": "ok",
     "timestamp": 1524767644385,
     "user": {
      "displayName": "Steve Johnson",
      "photoUrl": "//lh3.googleusercontent.com/-aWoUrtEbcoA/AAAAAAAAAAI/AAAAAAAAAgw/MZkRYHRUBoo/s50-c-k-no/photo.jpg",
      "userId": "111376329577814829723"
     },
     "user_tz": 300
    },
    "id": "EqZAggVouWsk",
    "outputId": "69de5211-5ebc-413c-97e1-03a2ca002b94"
   },
   "outputs": [],
   "source": [
    "cwd = os.getcwd()\n",
    "if cwd == '/home/jovyan':  # We are in Jupyter Docker\n",
    "    datadir = '/home/jovyan/work/dswg/data'\n",
    "elif cwd == '/content':    # We are in Google Colab\n",
    "    datadir = '/content/dswg/data'\n",
    "print(datadir,':')\n",
    "if os.path.exists(datadir):\n",
    "  print(listdir(datadir))\n",
    "else:\n",
    "  print(\"DOESN'T EXIST\")"
   ]
  },
  {
   "cell_type": "code",
   "execution_count": null,
   "metadata": {
    "colab": {
     "autoexec": {
      "startup": false,
      "wait_interval": 0
     },
     "base_uri": "https://localhost:8080/",
     "height": 102
    },
    "colab_type": "code",
    "executionInfo": {
     "elapsed": 5114,
     "status": "ok",
     "timestamp": 1524767653682,
     "user": {
      "displayName": "Steve Johnson",
      "photoUrl": "//lh3.googleusercontent.com/-aWoUrtEbcoA/AAAAAAAAAAI/AAAAAAAAAgw/MZkRYHRUBoo/s50-c-k-no/photo.jpg",
      "userId": "111376329577814829723"
     },
     "user_tz": 300
    },
    "id": "mi0VeJUxuWsm",
    "outputId": "c42c56f2-b621-4ebd-96b9-4001c1b23646"
   },
   "outputs": [],
   "source": [
    "if not os.path.exists(datadir + '/patients.csv'): \n",
    "    # Checkout the data from Github\n",
    "    !git clone https://github.com/stevejohnson2001/dswg\n",
    "    !mkdir /content/dswg/data/temp"
   ]
  },
  {
   "cell_type": "markdown",
   "metadata": {
    "colab_type": "text",
    "id": "KZA3W-hhxkpV"
   },
   "source": [
    "## 1.1 Read in the data"
   ]
  },
  {
   "cell_type": "code",
   "execution_count": null,
   "metadata": {
    "colab": {
     "autoexec": {
      "startup": false,
      "wait_interval": 0
     },
     "base_uri": "https://localhost:8080/",
     "height": 2377
    },
    "colab_type": "code",
    "executionInfo": {
     "elapsed": 771,
     "status": "ok",
     "timestamp": 1524767660221,
     "user": {
      "displayName": "Steve Johnson",
      "photoUrl": "//lh3.googleusercontent.com/-aWoUrtEbcoA/AAAAAAAAAAI/AAAAAAAAAgw/MZkRYHRUBoo/s50-c-k-no/photo.jpg",
      "userId": "111376329577814829723"
     },
     "user_tz": 300
    },
    "id": "U3ymTsiKuWsn",
    "outputId": "b5770c83-f14e-4708-a6e7-46728e50fc99"
   },
   "outputs": [],
   "source": [
    "# Read in the data\n",
    "dd = {}\n",
    "\n",
    "dd['patients'] = {'pat_id':     {'type': np.str, 'required':True, 'primarykey_col':0},\n",
    "                  'birth_date': {'type': np.datetime64, 'required':True},\n",
    "                  'death_date': {'type': np.datetime64}, \n",
    "                  'ssn':        {'type': np.str},\n",
    "                  'drivers':    {'type': np.str},\n",
    "                  'passport':   {'type': np.str},\n",
    "                  'prefix':     {'type': np.str},\n",
    "                  'first':      {'type': np.str, 'required':True},\n",
    "                  'last':       {'type': np.str, 'required':True},\n",
    "                  'suffix':     {'type': np.str},\n",
    "                  'maiden':     {'type': np.str},\n",
    "                  'marital':    {'type': np.str},\n",
    "                  'race':       {'type': np.str},\n",
    "                  'ethnicity':  {'type': np.str},\n",
    "                  'gender':     {'type': np.str, 'required':True},\n",
    "                  'birthplace': {'type': np.str},\n",
    "                  'address':    {'type': np.str, 'required':True}\n",
    "                  }\n",
    "dd['encounters'] = {'enc_id':                 {'type': np.str, 'required':True, 'primarykey_col':0},\n",
    "                    'enc_date':               {'type': np.datetime64, 'required':True},\n",
    "                    'enc_pat_id':             {'type': np.str, 'required':True},\n",
    "                    'enc_code':               {'type': np.str, 'required':True},\n",
    "                    'enc_description':        {'type': np.str, 'required':True},\n",
    "                    'enc_reason_code':        {'type': np.str},\n",
    "                    'enc_reason_description': {'type': np.str}\n",
    "                   }\n",
    "dd['observations'] = {'obs_date':        {'type': np.datetime64, 'required':True},\n",
    "                      'obs_pat_id':      {'type': np.str, 'required':True},\n",
    "                      'obs_enc_id':      {'type': np.str, 'required':True},\n",
    "                      'obs_code':        {'type': np.str, 'required':True},\n",
    "                      'obs_description': {'type': np.str, 'required':True},\n",
    "                      'obs_value':       {'type': np.str},\n",
    "                      'obs_units':       {'type': np.str}\n",
    "                     }\n",
    "dd['medications'] = {'med_start_date':         {'type': np.datetime64, 'required':True},\n",
    "                     'med_stop_date':          {'type': np.str, 'required':False},\n",
    "                     'med_pat_id':             {'type': np.str, 'required':True},\n",
    "                     'med_enc_id':             {'type': np.str, 'required':True},\n",
    "                     'med_code':               {'type': np.str, 'required':True},\n",
    "                     'med_description':        {'type': np.str, 'required':True},\n",
    "                     'med_reason_code':        {'type': np.str},\n",
    "                     'med_reason_description': {'type': np.str}\n",
    "                     }\n",
    "\n",
    "\n",
    "data = {}\n",
    "for f in dd:\n",
    "    m = dd[f]\n",
    "    col_names = list(m.keys())\n",
    "    data_types = {k: (v['type'] if v['type'] != np.datetime64 else np.str) for (k,v) in m.items()}\n",
    "    date_cols = [k for k,v in m.items() if v['type'] == np.datetime64]\n",
    "    key_cols = [v['primarykey_col'] for k,v in m.items() if 'primarykey_col' in v]\n",
    "    if len(key_cols) == 0:\n",
    "        key_cols = None\n",
    "    print('{}:'.format(f))\n",
    "    print('  keys:  {}'.format(key_cols))\n",
    "    print('  types: {}'.format(data_types))\n",
    "    print('  cols:  {}'.format(col_names))\n",
    "    print('  dates: {}'.format(date_cols))\n",
    "    data[f] = pd.read_csv(datadir + '/{}.csv'.format(f), index_col=key_cols, dtype=data_types, header=0, parse_dates=date_cols, names=col_names)\n",
    "    display(data[f].head(5))\n",
    "    print(data[f].dtypes)"
   ]
  },
  {
   "cell_type": "code",
   "execution_count": null,
   "metadata": {
    "colab": {
     "autoexec": {
      "startup": false,
      "wait_interval": 0
     }
    },
    "colab_type": "code",
    "collapsed": true,
    "id": "_jRiDNAduWsq"
   },
   "outputs": [],
   "source": [
    "patients = data['patients']\n",
    "encounters = data['encounters']\n",
    "observations = data['observations']\n",
    "medications = data['medications']"
   ]
  },
  {
   "cell_type": "markdown",
   "metadata": {
    "colab_type": "text",
    "id": "plUzM3pfxr68"
   },
   "source": [
    "## 1.2 Change Column Names"
   ]
  },
  {
   "cell_type": "code",
   "execution_count": null,
   "metadata": {
    "colab": {
     "autoexec": {
      "startup": false,
      "wait_interval": 0
     }
    },
    "colab_type": "code",
    "collapsed": true,
    "id": "9_T97LdluWss"
   },
   "outputs": [],
   "source": [
    "# Change the column names\n"
   ]
  },
  {
   "cell_type": "markdown",
   "metadata": {
    "colab_type": "text",
    "id": "Qm0RnQb1xz3V"
   },
   "source": [
    "## 1.3 Inject Data Quality Errors"
   ]
  },
  {
   "cell_type": "code",
   "execution_count": null,
   "metadata": {
    "colab": {
     "autoexec": {
      "startup": false,
      "wait_interval": 0
     }
    },
    "colab_type": "code",
    "collapsed": true,
    "id": "H4ImHeIQuWst"
   },
   "outputs": [],
   "source": [
    "# Inject data quality errors"
   ]
  },
  {
   "cell_type": "code",
   "execution_count": null,
   "metadata": {
    "colab": {
     "autoexec": {
      "startup": false,
      "wait_interval": 0
     },
     "base_uri": "https://localhost:8080/",
     "height": 541
    },
    "colab_type": "code",
    "executionInfo": {
     "elapsed": 237,
     "status": "ok",
     "timestamp": 1524767671854,
     "user": {
      "displayName": "Steve Johnson",
      "photoUrl": "//lh3.googleusercontent.com/-aWoUrtEbcoA/AAAAAAAAAAI/AAAAAAAAAgw/MZkRYHRUBoo/s50-c-k-no/photo.jpg",
      "userId": "111376329577814829723"
     },
     "user_tz": 300
    },
    "id": "ezDUV2MHuWsv",
    "outputId": "ba94b849-6e26-4d90-e833-daf8ecff003d"
   },
   "outputs": [],
   "source": [
    "# Add Days Supply information (bias toward more for Drug Overdose patients)\n",
    "# Find all Overdose Patients\n",
    "overdose_patients = set(encounters[encounters['enc_reason_code']=='55680006']['enc_pat_id'])\n",
    "print(len(overdose_patients))\n",
    "display(encounters[encounters['enc_pat_id'].isin(overdose_patients)].head(5))\n",
    "overdose_meds = medications[medications['med_pat_id'].isin(overdose_patients)]\n",
    "print(overdose_meds.shape)\n",
    "display(overdose_meds.head(5))"
   ]
  },
  {
   "cell_type": "code",
   "execution_count": null,
   "metadata": {
    "colab": {
     "autoexec": {
      "startup": false,
      "wait_interval": 0
     },
     "base_uri": "https://localhost:8080/",
     "height": 546
    },
    "colab_type": "code",
    "executionInfo": {
     "elapsed": 252,
     "status": "ok",
     "timestamp": 1524767675921,
     "user": {
      "displayName": "Steve Johnson",
      "photoUrl": "//lh3.googleusercontent.com/-aWoUrtEbcoA/AAAAAAAAAAI/AAAAAAAAAgw/MZkRYHRUBoo/s50-c-k-no/photo.jpg",
      "userId": "111376329577814829723"
     },
     "user_tz": 300
    },
    "id": "k9nBLwtwuWsy",
    "outputId": "1eacdb81-003f-4faa-9a9b-9a37d916734d"
   },
   "outputs": [],
   "source": [
    "# Display all the Opioid medications\n",
    "opioids_rxnorm = ['1049369','1310197','1049544']\n",
    "op1 = medications[medications.med_code.isin(opioids_rxnorm)]\n",
    "print(op1.shape)\n",
    "display(op1.head(10))"
   ]
  },
  {
   "cell_type": "code",
   "execution_count": null,
   "metadata": {
    "colab": {
     "autoexec": {
      "startup": false,
      "wait_interval": 0
     },
     "base_uri": "https://localhost:8080/",
     "height": 85
    },
    "colab_type": "code",
    "executionInfo": {
     "elapsed": 240,
     "status": "ok",
     "timestamp": 1524767709089,
     "user": {
      "displayName": "Steve Johnson",
      "photoUrl": "//lh3.googleusercontent.com/-aWoUrtEbcoA/AAAAAAAAAAI/AAAAAAAAAgw/MZkRYHRUBoo/s50-c-k-no/photo.jpg",
      "userId": "111376329577814829723"
     },
     "user_tz": 300
    },
    "id": "VPJb9exouWs0",
    "outputId": "a00932bf-7f7c-491f-c050-aaf8240ea815"
   },
   "outputs": [],
   "source": [
    "# Pickle the data\n",
    "for name, dt in data.items():\n",
    "    print('Pickling {} of shape: {}'.format(name, dt.shape))\n",
    "    dt.to_pickle('{}/temp/{}.tmp'.format(datadir, name))"
   ]
  },
  {
   "cell_type": "markdown",
   "metadata": {
    "colab_type": "text",
    "id": "YwLnaiLiLjba"
   },
   "source": [
    "# 3.0 Exploratory Data Analysis"
   ]
  },
  {
   "cell_type": "code",
   "execution_count": null,
   "metadata": {
    "colab": {
     "autoexec": {
      "startup": false,
      "wait_interval": 0
     }
    },
    "colab_type": "code",
    "collapsed": true,
    "id": "EAW0QqbkLrJh"
   },
   "outputs": [],
   "source": [
    "#Load the data\n",
    "fips = [27000+i for i in range(1,174,2)]\n",
    "#print(fips)\n",
    "pop = [np.random.randint(1,100) for i in range(0,len(fips))]\n",
    "#print(pop)\n",
    "prevalance = np.random.normal(size=300)\n",
    "\n"
   ]
  },
  {
   "cell_type": "markdown",
   "metadata": {
    "colab_type": "text",
    "id": "lwTJ3YTtL42n"
   },
   "source": [
    "## 3.1 Load the Data\n",
    "\n",
    "Load the patient and observations (labs) data from the .csv file that we received from the extract.  Convert dates and other fields to the proper format when reading the file.\n",
    "\n",
    "Displaying the first 5 rows of the data is a good way to look for obvious issues before working with the data in more detail."
   ]
  },
  {
   "cell_type": "code",
   "execution_count": null,
   "metadata": {
    "colab": {
     "autoexec": {
      "startup": false,
      "wait_interval": 0
     },
     "base_uri": "https://localhost:8080/",
     "height": 252
    },
    "colab_type": "code",
    "executionInfo": {
     "elapsed": 419,
     "status": "ok",
     "timestamp": 1524767932867,
     "user": {
      "displayName": "Steve Johnson",
      "photoUrl": "//lh3.googleusercontent.com/-aWoUrtEbcoA/AAAAAAAAAAI/AAAAAAAAAgw/MZkRYHRUBoo/s50-c-k-no/photo.jpg",
      "userId": "111376329577814829723"
     },
     "user_tz": 300
    },
    "id": "9_re3roKL0mv",
    "outputId": "a9271902-06c5-48af-aba1-a5dca6b5e053"
   },
   "outputs": [],
   "source": [
    "# 2.0 Load Data\n",
    "\n",
    "\n",
    "patients = pd.read_pickle(datadir+'/temp/patients.tmp')\n",
    "encounters = pd.read_pickle(datadir+'/temp/encounters.tmp')\n",
    "observations = pd.read_pickle(datadir+'/temp/observations.tmp')\n",
    "medications = pd.read_pickle(datadir+'/temp/medications.tmp')\n",
    "#display(patients.head(5))\n",
    "#display(encounters.head(5))\n",
    "#display(observations.head(5))\n",
    "#display(medications.head(5))\n",
    "\n",
    "\n",
    "\n",
    "\n",
    "\n"
   ]
  },
  {
   "cell_type": "markdown",
   "metadata": {
    "colab_type": "text",
    "id": "ygRWbg6_QHur"
   },
   "source": [
    "### 3.1.1 Find all of the overdose encounters"
   ]
  },
  {
   "cell_type": "code",
   "execution_count": null,
   "metadata": {
    "colab": {
     "autoexec": {
      "startup": false,
      "wait_interval": 0
     }
    },
    "colab_type": "code",
    "collapsed": true,
    "id": "iZ2NTlclQGm_"
   },
   "outputs": [],
   "source": [
    "overdose_encounters = encounters[encounters['enc_reason_code']=='55680006']\n",
    "print(len(overdose_encounters))\n",
    "overdose_encounters.head(5)\n",
    "\n"
   ]
  },
  {
   "cell_type": "markdown",
   "metadata": {
    "colab_type": "text",
    "id": "zg9SL1_fMF-H"
   },
   "source": [
    "## 3.1 Data Visualization\n",
    "\n",
    "\n",
    "Use the power of Matplotlib, Seaborn and Plotly to easily explore the data through rich visualizations including graphs, distributions and maps of the data.\n",
    "\n",
    "The graphs are interactive through hovering and selecting of elements.  The graphic can be exported to be included in other documents."
   ]
  },
  {
   "cell_type": "code",
   "execution_count": null,
   "metadata": {
    "colab": {
     "autoexec": {
      "startup": false,
      "wait_interval": 0
     },
     "base_uri": "https://localhost:8080/",
     "height": 609
    },
    "colab_type": "code",
    "executionInfo": {
     "elapsed": 2245,
     "status": "error",
     "timestamp": 1524768116330,
     "user": {
      "displayName": "Steve Johnson",
      "photoUrl": "//lh3.googleusercontent.com/-aWoUrtEbcoA/AAAAAAAAAAI/AAAAAAAAAgw/MZkRYHRUBoo/s50-c-k-no/photo.jpg",
      "userId": "111376329577814829723"
     },
     "user_tz": 300
    },
    "id": "Oxb4DG_nMDwv",
    "outputId": "44f25bc9-f78d-4aaa-b036-927f6519341f"
   },
   "outputs": [],
   "source": [
    "# 3.0 Exploratory Data Analysis\n",
    "\n",
    "\n",
    "values = pop\n",
    "endpts = list(np.mgrid[min(values):max(values):4j])\n",
    "\n",
    "colorscale = [\"#030512\",\"#1d1d3b\",\"#323268\",\"#3d4b94\",\"#3e6ab0\",\n",
    "              \"#4989bc\",\"#60a7c7\",\"#85c5d3\",\"#b7e0e4\",\"#eafcfd\"]  # Blues\n",
    "colorscale = [\n",
    "    'rgb(68.0, 1.0, 84.0)',\n",
    "    'rgb(66.0, 64.0, 134.0)',\n",
    "    'rgb(38.0, 130.0, 142.0)',\n",
    "    'rgb(63.0, 188.0, 115.0)',\n",
    "    'rgb(216.0, 226.0, 25.0)'\n",
    "]  # Green / Yellow\n",
    "\n",
    "fig = ff.create_choropleth(\n",
    "    fips=fips, values=values, scope=['Minnesota'], show_state_data=True,\n",
    "    colorscale=colorscale, \n",
    "    binning_endpoints=endpts, \n",
    "    round_legend_values=True,\n",
    "    plot_bgcolor='rgb(229,229,229)',\n",
    "    paper_bgcolor='rgb(229,229,229)',\n",
    "    legend_title='Prevalance by County',\n",
    "    county_outline={'color': 'rgb(0,0,0)', 'width': 0.5},\n",
    "    state_outline={'color': 'rgb(0,0,0)', 'width': 1},\n",
    "    exponent_format=True,\n",
    ")\n",
    "\n",
    "iplot(fig, filename='choropleth_MN')\n",
    "\n",
    "sns.countplot(x='RACE', data=patients)\n",
    "\n",
    "g = sns.countplot(x='ethnicity', data=patients)\n",
    "z = plt.xticks(rotation=-45)\n",
    "\n",
    "sns.distplot(prevalance)\n",
    "\n"
   ]
  },
  {
   "cell_type": "markdown",
   "metadata": {
    "colab_type": "text",
    "id": "rVVDeJqpMSK6"
   },
   "source": [
    "## 3.2 Transform the Data\n",
    "\n",
    "Use the power of Pandas Dataframes to transform the data.  Add new columns as calculations from existing columns, join the data together and get it into the format you need for analysis.\n",
    "\n"
   ]
  },
  {
   "cell_type": "code",
   "execution_count": null,
   "metadata": {
    "colab": {
     "autoexec": {
      "startup": false,
      "wait_interval": 0
     },
     "base_uri": "https://localhost:8080/",
     "height": 2159
    },
    "colab_type": "code",
    "executionInfo": {
     "elapsed": 1624,
     "status": "ok",
     "timestamp": 1524768473135,
     "user": {
      "displayName": "Steve Johnson",
      "photoUrl": "//lh3.googleusercontent.com/-aWoUrtEbcoA/AAAAAAAAAAI/AAAAAAAAAgw/MZkRYHRUBoo/s50-c-k-no/photo.jpg",
      "userId": "111376329577814829723"
     },
     "user_tz": 300
    },
    "id": "GqpYqYKMMM90",
    "outputId": "8fe27f16-3aff-47ea-d598-1ed31d13f807"
   },
   "outputs": [],
   "source": [
    "# 3.0 Transform the Data\n",
    "\n",
    "obs = pd.merge(observations, patients, left_on='obs_pat_id', how='left', right_index=True, indicator=True)\n",
    "obs['age_at_visit'] = round((pd.to_datetime(obs['obs_date']) - pd.to_datetime(obs['birth_date'])).dt.days/365)\n",
    "obs['adult'] = np.where(obs['age_at_visit'] >= 18, True, False)\n",
    "#obs[obs['adult']].head(5)\n",
    "\n",
    "display(obs.head(5))\n",
    "\n",
    "enc2 = encounters.reset_index()\n",
    "print(enc2.columns)\n",
    "enc2.head(5)\n",
    "\n",
    "\n",
    "obs.head(5)\n",
    "\n",
    "obs2 = obs.merge(enc2, how='outer', left_on='obs_enc_id', right_on='enc_id')\n",
    "\n",
    "obs = obs2\n",
    "\n",
    "print(obs.shape)\n",
    "print(obs2.shape)\n",
    "display(obs.head(5))\n",
    "display(obs2.head(5))\n",
    "\n",
    "obs[obs['enc_reason_code'].notnull()].head(5)\n",
    "\n",
    "\n",
    "\n"
   ]
  },
  {
   "cell_type": "markdown",
   "metadata": {
    "colab_type": "text",
    "id": "iXdxuyM5MeIG"
   },
   "source": [
    "### 3.2.1 Compute the Adult variable"
   ]
  },
  {
   "cell_type": "code",
   "execution_count": null,
   "metadata": {
    "colab": {
     "autoexec": {
      "startup": false,
      "wait_interval": 0
     },
     "base_uri": "https://localhost:8080/",
     "height": 750
    },
    "colab_type": "code",
    "executionInfo": {
     "elapsed": 1586,
     "status": "ok",
     "timestamp": 1524768541785,
     "user": {
      "displayName": "Steve Johnson",
      "photoUrl": "//lh3.googleusercontent.com/-aWoUrtEbcoA/AAAAAAAAAAI/AAAAAAAAAgw/MZkRYHRUBoo/s50-c-k-no/photo.jpg",
      "userId": "111376329577814829723"
     },
     "user_tz": 300
    },
    "id": "JYbNPU6bMdTL",
    "outputId": "b6608c6d-8957-417d-cbbf-a8fbc4ba2100"
   },
   "outputs": [],
   "source": [
    "w = obs[obs['obs_code']=='29463-7']\n",
    "print('Number of patients: {:,}'.format(len(w)))\n",
    "weights = w['obs_value'].astype(np.float)\n",
    "mean = np.mean(weights)\n",
    "print('Avg weight: ',mean)\n",
    "sns.distplot(weights)\n",
    "plt.xlabel(\"WEIGHT (kg)\")\n",
    "plt.show()\n",
    "\n",
    "weight_obs = pd.DataFrame()\n",
    "weight_obs['gender'] = obs['gender']\n",
    "weight_obs['value'] = weights\n",
    "weight_obs['adult'] = obs['adult']\n",
    "sns.set(style=\"darkgrid\")\n",
    "g = sns.FacetGrid(weight_obs, row= 'adult', col='gender', margin_titles=True)\n",
    "bins = np.linspace(0, 60, 13)\n",
    "g.map(plt.hist, 'value', color=\"steelblue\", lw=0, normed=True)\n",
    "\n"
   ]
  },
  {
   "cell_type": "markdown",
   "metadata": {
    "colab_type": "text",
    "id": "mBYd6WlVNny7"
   },
   "source": [
    "## 3.3 Save the Dataframes\n",
    "\n",
    "\n",
    "Write all of the dataframes to disk for the next step"
   ]
  },
  {
   "cell_type": "code",
   "execution_count": null,
   "metadata": {
    "colab": {
     "autoexec": {
      "startup": false,
      "wait_interval": 0
     }
    },
    "colab_type": "code",
    "collapsed": true,
    "id": "eNY-0WX9MO2L"
   },
   "outputs": [],
   "source": [
    "### 3.1 Save the Dataframes\n",
    "\n",
    "\n",
    "obs.to_pickle(datadir+'/temp/obs.tmp')"
   ]
  },
  {
   "cell_type": "code",
   "execution_count": null,
   "metadata": {
    "colab": {
     "autoexec": {
      "startup": false,
      "wait_interval": 0
     }
    },
    "colab_type": "code",
    "collapsed": true,
    "id": "CmdI03iAS0Qa"
   },
   "outputs": [],
   "source": []
  },
  {
   "cell_type": "markdown",
   "metadata": {
    "colab_type": "text",
    "id": "5eC1JesaS1Nl"
   },
   "source": [
    "# 4.0 Feature Selection"
   ]
  },
  {
   "cell_type": "code",
   "execution_count": null,
   "metadata": {
    "colab": {
     "autoexec": {
      "startup": false,
      "wait_interval": 0
     },
     "base_uri": "https://localhost:8080/",
     "height": 1833
    },
    "colab_type": "code",
    "executionInfo": {
     "elapsed": 354,
     "status": "ok",
     "timestamp": 1524769035600,
     "user": {
      "displayName": "Steve Johnson",
      "photoUrl": "//lh3.googleusercontent.com/-aWoUrtEbcoA/AAAAAAAAAAI/AAAAAAAAAgw/MZkRYHRUBoo/s50-c-k-no/photo.jpg",
      "userId": "111376329577814829723"
     },
     "user_tz": 300
    },
    "id": "L8wnmfUFSlIL",
    "outputId": "f59b66a6-60d3-432e-c057-4447fbae30ae"
   },
   "outputs": [],
   "source": [
    "from sklearn.ensemble import RandomForestClassifier\n",
    "\n",
    "#obs = pd.read_pickle(datadir+'/temp/obs.tmp')\n",
    "\n",
    "overdose_patient_deaths = list(obs[(obs['obs_code'] == '69453-9') & (obs['obs_value'].str.contains('overdose'))]['enc_pat_id'])\n",
    "overdose_patients = set(obs[obs['enc_reason_code']=='55680006']['enc_pat_id'])\n",
    "\n",
    "print(len(overdose_patients))\n",
    "\n",
    "overdose_obs = obs[obs.obs_pat_id.isin(overdose_patients)]\n",
    "print(overdose_obs.shape)\n",
    "display(overdose_obs.head(10))\n",
    "\n",
    "obs['overdose'] = (obs['enc_pat_id'].isin(overdose_patients))\n",
    "display(obs[obs['overdose']].head(10))\n",
    "\n",
    "\n"
   ]
  },
  {
   "cell_type": "code",
   "execution_count": null,
   "metadata": {
    "colab": {
     "autoexec": {
      "startup": false,
      "wait_interval": 0
     },
     "base_uri": "https://localhost:8080/",
     "height": 893
    },
    "colab_type": "code",
    "executionInfo": {
     "elapsed": 1125,
     "status": "ok",
     "timestamp": 1524769204898,
     "user": {
      "displayName": "Steve Johnson",
      "photoUrl": "//lh3.googleusercontent.com/-aWoUrtEbcoA/AAAAAAAAAAI/AAAAAAAAAgw/MZkRYHRUBoo/s50-c-k-no/photo.jpg",
      "userId": "111376329577814829723"
     },
     "user_tz": 300
    },
    "id": "ThAl0i5RUCof",
    "outputId": "c3631a76-722a-4f21-86c1-a8248670aa8e"
   },
   "outputs": [],
   "source": [
    "# fit an Extra Trees model to the data\n",
    "\n",
    "\n",
    "noncat_col_names = ['age_at_visit']\n",
    "cat_col_names = ['obs_code', 'marital', 'race', 'ethnicity', 'gender', 'adult', 'overdose']\n",
    "pred_col_names = ['obs_code', 'marital', 'race', 'ethnicity', 'gender', 'adult', 'age_at_visit']\n",
    "\n",
    "from collections import defaultdict\n",
    "from sklearn.preprocessing import LabelEncoder\n",
    "d = defaultdict(LabelEncoder)\n",
    "df = obs[cat_col_names]\n",
    "\n",
    "# Encoding the variable\n",
    "fit = df.apply(lambda x: d[x.name].fit_transform(x.astype(str)))\n",
    "display(fit.head(20))\n",
    "print(d)\n",
    "\n",
    "# Inverse the encoded\n",
    "#fit.apply(lambda x: d[x.name].inverse_transform(x))\n",
    "\n",
    "# Using the dictionary to label future data\n",
    "#df.apply(lambda x: d[x.name].transform(x))\n",
    "\n",
    "df2 = pd.concat([fit, obs[noncat_col_names]],axis=1)\n",
    "display(df2.head(5))\n",
    "\n"
   ]
  },
  {
   "cell_type": "code",
   "execution_count": null,
   "metadata": {
    "colab": {
     "autoexec": {
      "startup": false,
      "wait_interval": 0
     },
     "base_uri": "https://localhost:8080/",
     "height": 1058
    },
    "colab_type": "code",
    "executionInfo": {
     "elapsed": 251,
     "status": "ok",
     "timestamp": 1524769502875,
     "user": {
      "displayName": "Steve Johnson",
      "photoUrl": "//lh3.googleusercontent.com/-aWoUrtEbcoA/AAAAAAAAAAI/AAAAAAAAAgw/MZkRYHRUBoo/s50-c-k-no/photo.jpg",
      "userId": "111376329577814829723"
     },
     "user_tz": 300
    },
    "id": "Usd0HSrpU5OE",
    "outputId": "c2a934b8-daa1-4fc1-8fce-95d262bed97e"
   },
   "outputs": [],
   "source": [
    "missing_data = df2[df2.isnull().any(axis=1)]\n",
    "print(\"Shape = \",missing_data.shape)\n",
    "display(missing_data.head(10))\n",
    "\n",
    "good_data = df2[df2.notnull().any(axis=1)]\n",
    "print(\"Shape = \",good_data.shape)\n",
    "display(good_data.head(10))\n",
    "print(good_data.dtypes)\n",
    "\n",
    "#good_data['age_at_visit'] = good_data['age_at_visit'].astype('int64')\n",
    "\n",
    "good_data = good_data[good_data['age_at_visit'].notnull()]\n",
    "print(\"Shape = \",good_data.shape)\n",
    "print(np.isfinite(good_data).all())\n",
    "\n"
   ]
  },
  {
   "cell_type": "markdown",
   "metadata": {
    "colab_type": "text",
    "id": "ksaCE7f2WH3h"
   },
   "source": [
    "## 4.2.2 Display the relative importance of each variable"
   ]
  },
  {
   "cell_type": "code",
   "execution_count": null,
   "metadata": {
    "colab": {
     "autoexec": {
      "startup": false,
      "wait_interval": 0
     },
     "base_uri": "https://localhost:8080/",
     "height": 518
    },
    "colab_type": "code",
    "executionInfo": {
     "elapsed": 775,
     "status": "ok",
     "timestamp": 1524769588482,
     "user": {
      "displayName": "Steve Johnson",
      "photoUrl": "//lh3.googleusercontent.com/-aWoUrtEbcoA/AAAAAAAAAAI/AAAAAAAAAgw/MZkRYHRUBoo/s50-c-k-no/photo.jpg",
      "userId": "111376329577814829723"
     },
     "user_tz": 300
    },
    "id": "sdw2wVV-VDYu",
    "outputId": "6c80ae6b-fc2c-4497-8caf-282386ab2f0f"
   },
   "outputs": [],
   "source": [
    "model = RandomForestClassifier()\n",
    "model.fit(good_data[pred_col_names], good_data['overdose'])\n",
    "# display the relative importance of each attribute\n",
    "print(model.feature_importances_)\n",
    "\n",
    "# Number of Male vs Female overdoses\n",
    "display(pd.crosstab(obs['race'],obs['overdose'],margins=True))\n",
    "pd.crosstab(obs['race'],obs['overdose'],normalize='index')\n",
    "\n"
   ]
  },
  {
   "cell_type": "markdown",
   "metadata": {
    "colab_type": "text",
    "id": "-vpA-YgDWRo-"
   },
   "source": [
    "### 4.2.3 Display Correlations between all the variables"
   ]
  },
  {
   "cell_type": "code",
   "execution_count": null,
   "metadata": {
    "colab": {
     "autoexec": {
      "startup": false,
      "wait_interval": 0
     },
     "base_uri": "https://localhost:8080/",
     "height": 391
    },
    "colab_type": "code",
    "executionInfo": {
     "elapsed": 297,
     "status": "ok",
     "timestamp": 1524769629772,
     "user": {
      "displayName": "Steve Johnson",
      "photoUrl": "//lh3.googleusercontent.com/-aWoUrtEbcoA/AAAAAAAAAAI/AAAAAAAAAgw/MZkRYHRUBoo/s50-c-k-no/photo.jpg",
      "userId": "111376329577814829723"
     },
     "user_tz": 300
    },
    "id": "m3Tf9vPmWQWP",
    "outputId": "2218f7ab-2607-4b5a-a0cc-1218b3dd7967"
   },
   "outputs": [],
   "source": [
    "display(good_data.corr())\n"
   ]
  },
  {
   "cell_type": "code",
   "execution_count": null,
   "metadata": {
    "colab": {
     "autoexec": {
      "startup": false,
      "wait_interval": 0
     },
     "base_uri": "https://localhost:8080/",
     "height": 396
    },
    "colab_type": "code",
    "executionInfo": {
     "elapsed": 248,
     "status": "ok",
     "timestamp": 1524770064159,
     "user": {
      "displayName": "Steve Johnson",
      "photoUrl": "//lh3.googleusercontent.com/-aWoUrtEbcoA/AAAAAAAAAAI/AAAAAAAAAgw/MZkRYHRUBoo/s50-c-k-no/photo.jpg",
      "userId": "111376329577814829723"
     },
     "user_tz": 300
    },
    "id": "lnWB5kMcWXAg",
    "outputId": "807dbd07-fa39-4ca7-8fb3-5e0de58b58e8"
   },
   "outputs": [],
   "source": [
    "# Get Opioid code list from VSAC\n",
    "# oid 1.3.6.1.4.1.6997.4.1.2.234.999.3.2\n",
    "xl = pd.ExcelFile(datadir + '/AllPrescribableOpioidsUsedForPainControlIncludingInactiveMedications.xlsx')\n",
    "df = xl.parse(\"Code List\", skiprows=12)\n",
    "display(df.head(10))\n",
    "opioids_rxnorm = list(df['Code'].astype(np.str))\n",
    "#opioids_rxnorm.extend(['1049369','1310197','1049544'])\n",
    "print(opioids_rxnorm)\n",
    "\n"
   ]
  },
  {
   "cell_type": "code",
   "execution_count": null,
   "metadata": {
    "colab": {
     "autoexec": {
      "startup": false,
      "wait_interval": 0
     },
     "base_uri": "https://localhost:8080/",
     "height": 971
    },
    "colab_type": "code",
    "executionInfo": {
     "elapsed": 254,
     "status": "ok",
     "timestamp": 1524770068458,
     "user": {
      "displayName": "Steve Johnson",
      "photoUrl": "//lh3.googleusercontent.com/-aWoUrtEbcoA/AAAAAAAAAAI/AAAAAAAAAgw/MZkRYHRUBoo/s50-c-k-no/photo.jpg",
      "userId": "111376329577814829723"
     },
     "user_tz": 300
    },
    "id": "avVtbIETWtuI",
    "outputId": "bcf476dc-6ca1-4ebb-c027-e075fa22ef89"
   },
   "outputs": [],
   "source": [
    "#dt = {'PATIENT':np.str, 'ENCOUNTER':np.str, 'CODE':np.str, \n",
    "#      'DESCRIPTION':np.str, 'REASONCODE':np.str, 'REASONDESCRIPTION':np.str }\n",
    "#medications = pd.read_csv(datadir + '/medications.csv', header=0, parse_dates = [0,1], dtype=dt, keep_default_na=False)\n",
    "#medications['CODE'] = medications.CODE.astype(np.str)\n",
    "#print(medications['CODE'][0])\n",
    "print(medications.dtypes)\n",
    "display(medications.head(5))\n",
    "\n",
    "#display(medications[medications['CODE'].isin(opioids_rxnorm)].head(10))\n",
    "print(medications[medications['med_code'].isin(opioids_rxnorm)].shape)\n",
    "#display(medications[medications['CODE']==1049221].head(10))\n",
    "display(medications[medications['med_code']=='1049544'].head(10))\n",
    "\n"
   ]
  },
  {
   "cell_type": "code",
   "execution_count": null,
   "metadata": {
    "colab": {
     "autoexec": {
      "startup": false,
      "wait_interval": 0
     },
     "base_uri": "https://localhost:8080/",
     "height": 88
    },
    "colab_type": "code",
    "executionInfo": {
     "elapsed": 463,
     "status": "ok",
     "timestamp": 1524770073387,
     "user": {
      "displayName": "Steve Johnson",
      "photoUrl": "//lh3.googleusercontent.com/-aWoUrtEbcoA/AAAAAAAAAAI/AAAAAAAAAgw/MZkRYHRUBoo/s50-c-k-no/photo.jpg",
      "userId": "111376329577814829723"
     },
     "user_tz": 300
    },
    "id": "TSACLGb8Xk7p",
    "outputId": "0a6fe1f8-d275-48b5-8f27-75a2663c07ed"
   },
   "outputs": [],
   "source": [
    "patients_prescribed_opioids = set(medications[medications['med_code'].isin(opioids_rxnorm)]['med_pat_id'])\n",
    "print(len(patients_prescribed_opioids))\n",
    "\n",
    "d2 = set(patients_prescribed_opioids).intersection(overdose_patients)\n",
    "print(len(d2))\n",
    "print(d2)\n",
    "\n"
   ]
  },
  {
   "cell_type": "code",
   "execution_count": null,
   "metadata": {
    "colab": {
     "autoexec": {
      "startup": false,
      "wait_interval": 0
     },
     "base_uri": "https://localhost:8080/",
     "height": 529
    },
    "colab_type": "code",
    "executionInfo": {
     "elapsed": 236,
     "status": "ok",
     "timestamp": 1524770925733,
     "user": {
      "displayName": "Steve Johnson",
      "photoUrl": "//lh3.googleusercontent.com/-aWoUrtEbcoA/AAAAAAAAAAI/AAAAAAAAAgw/MZkRYHRUBoo/s50-c-k-no/photo.jpg",
      "userId": "111376329577814829723"
     },
     "user_tz": 300
    },
    "id": "c-XITF7mX4xe",
    "outputId": "64586ab2-083f-428f-b40c-81c6b6bdf462"
   },
   "outputs": [],
   "source": [
    "meds_prescribed_to_overdose_patients = medications[medications['med_pat_id'].isin(overdose_patients)]\n",
    "display(meds_prescribed_to_overdose_patients.head(10))\n",
    "\n",
    "\n"
   ]
  },
  {
   "cell_type": "code",
   "execution_count": null,
   "metadata": {
    "colab": {
     "autoexec": {
      "startup": false,
      "wait_interval": 0
     },
     "base_uri": "https://localhost:8080/",
     "height": 1292
    },
    "colab_type": "code",
    "executionInfo": {
     "elapsed": 815,
     "status": "ok",
     "timestamp": 1524772350197,
     "user": {
      "displayName": "Steve Johnson",
      "photoUrl": "//lh3.googleusercontent.com/-aWoUrtEbcoA/AAAAAAAAAAI/AAAAAAAAAgw/MZkRYHRUBoo/s50-c-k-no/photo.jpg",
      "userId": "111376329577814829723"
     },
     "user_tz": 300
    },
    "id": "kNlJlgaCY-O2",
    "outputId": "a95e8d54-e57f-4d87-85ac-98b1f01df261"
   },
   "outputs": [],
   "source": [
    "pt_id = '3eaed230-1c60-4221-a96c-f6af5d871072'\n",
    "#pt = patients.query('pat_id == @pt_id')\n",
    "#pt = patients[patients.pat_id == pt_id].iloc[0]\n",
    "pt = patients.loc[pt_id]\n",
    "\n",
    "print('PATIENT: {} {} ({} {} {} {})'.format(pt['first'],pt['last'],pt['marital'],pt['race'],pt['gender'],pt['ethnicity']))\n",
    "encs = encounters[encounters.enc_pat_id == pt_id]\n",
    "#print(encs.shape)\n",
    "for i, e in encs.iterrows():\n",
    "    print('  {}: {} ({}) ({})'.format(e['enc_date'], e['enc_description'], e['enc_code'], e['enc_reason_description']))\n",
    "    meds = medications[medications['med_enc_id'] == e.name]\n",
    "    for j, m in meds.iterrows():\n",
    "        print('     MED: {} to {}: {} ({})'.format(m['med_start_date'], m['med_stop_date'], m['med_description'], m['med_code']))\n",
    "    labs = observations[observations['obs_enc_id'] == e.name]\n",
    "    for k, l in labs.iterrows():\n",
    "        print('     LAB: {:%Y-%m-%d %H:%M}: {} ({}) {} {}'.format(l['obs_date'], l['obs_description'], l['obs_code'], l['obs_value'], l['obs_units']))"
   ]
  }
 ],
 "metadata": {
  "colab": {
   "collapsed_sections": [],
   "default_view": {},
   "name": "AMIA-Workshop-v4.ipynb",
   "provenance": [],
   "toc_visible": true,
   "version": "0.3.2",
   "views": {}
  },
  "kernelspec": {
   "display_name": "Python 3",
   "language": "python",
   "name": "python3"
  },
  "language_info": {
   "codemirror_mode": {
    "name": "ipython",
    "version": 3
   },
   "file_extension": ".py",
   "mimetype": "text/x-python",
   "name": "python",
   "nbconvert_exporter": "python",
   "pygments_lexer": "ipython3",
   "version": "3.6.2"
  }
 },
 "nbformat": 4,
 "nbformat_minor": 1
}
