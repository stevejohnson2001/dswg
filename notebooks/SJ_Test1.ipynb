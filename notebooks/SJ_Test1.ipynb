{
  "nbformat": 4,
  "nbformat_minor": 0,
  "metadata": {
    "colab": {
      "name": "SJ-Test1.ipynb",
      "version": "0.3.2",
      "provenance": []
    },
    "kernelspec": {
      "display_name": "Python 3",
      "language": "python",
      "name": "python3"
    },
    "accelerator": "GPU"
  },
  "cells": [
    {
      "cell_type": "markdown",
      "metadata": {
        "id": "view-in-github",
        "colab_type": "text"
      },
      "source": [
        "[View in Colaboratory](https://colab.research.google.com/github/stevejohnson2001/dswg/blob/master/SJ_Test1.ipynb)"
      ]
    },
    {
      "metadata": {
        "id": "qVtr6_M5Q4B4",
        "colab_type": "text"
      },
      "cell_type": "markdown",
      "source": [
        "# 1.0 Load libraries and modules\n",
        "Make sure the Python environment is properly setup and that all of the required modules load correctly."
      ]
    },
    {
      "metadata": {
        "id": "-8zqU7WrRfLL",
        "colab_type": "code",
        "colab": {
          "base_uri": "https://localhost:8080/",
          "height": 153
        },
        "outputId": "bcfff3d7-f450-4ed6-8815-937962a199bb"
      },
      "cell_type": "code",
      "source": [
        "!pip install plotly"
      ],
      "execution_count": 3,
      "outputs": [
        {
          "output_type": "stream",
          "text": [
            "Requirement already satisfied: plotly in /usr/local/lib/python3.6/dist-packages\r\n",
            "Requirement already satisfied: pytz in /usr/local/lib/python3.6/dist-packages (from plotly)\r\n",
            "Requirement already satisfied: requests in /usr/local/lib/python3.6/dist-packages (from plotly)\r\n",
            "Requirement already satisfied: six in /usr/local/lib/python3.6/dist-packages (from plotly)\n",
            "Requirement already satisfied: idna<2.7,>=2.5 in /usr/local/lib/python3.6/dist-packages (from requests->plotly)\n",
            "Requirement already satisfied: chardet<3.1.0,>=3.0.2 in /usr/local/lib/python3.6/dist-packages (from requests->plotly)\n",
            "Requirement already satisfied: certifi>=2017.4.17 in /usr/local/lib/python3.6/dist-packages (from requests->plotly)\n",
            "Requirement already satisfied: urllib3<1.23,>=1.21.1 in /usr/local/lib/python3.6/dist-packages (from requests->plotly)\n"
          ],
          "name": "stdout"
        }
      ]
    },
    {
      "metadata": {
        "id": "J5eb8pwwSKf9",
        "colab_type": "code",
        "colab": {}
      },
      "cell_type": "code",
      "source": [
        "!pip3 freeze"
      ],
      "execution_count": 0,
      "outputs": []
    },
    {
      "metadata": {
        "id": "jYfVQvmSQ4B5",
        "colab_type": "code",
        "colab": {
          "base_uri": "https://localhost:8080/",
          "height": 34
        },
        "outputId": "a216a9b7-0970-4126-f42f-1ad375b94d9d"
      },
      "cell_type": "code",
      "source": [
        "import pandas as pd\n",
        "import numpy as np\n",
        "from matplotlib import pyplot as plt\n",
        "import seaborn as sns\n",
        "%matplotlib inline\n",
        "import plotly.plotly as py\n",
        "#import plotly.figure_factory as ff\n",
        "from plotly import __version__\n",
        "from plotly.offline import download_plotlyjs, init_notebook_mode, plot, iplot\n",
        "from plotly.graph_objs import Scatter, Figure, Layout\n",
        "\n",
        "init_notebook_mode(connected=True)\n",
        "from IPython.core.debugger import set_trace\n",
        "from os import listdir\n",
        "datadir = 'dswg/data'\n",
        "datadir = '/home'\n",
        "print(listdir(datadir))"
      ],
      "execution_count": 8,
      "outputs": [
        {
          "output_type": "display_data",
          "data": {
            "text/html": [
              "<script>requirejs.config({paths: { 'plotly': ['https://cdn.plot.ly/plotly-latest.min']},});if(!window.Plotly) {{require(['plotly'],function(plotly) {window.Plotly=plotly;});}}</script>"
            ],
            "text/plain": [
              "<IPython.core.display.HTML object>"
            ]
          },
          "metadata": {
            "tags": []
          }
        },
        {
          "output_type": "stream",
          "text": [
            "[]\n"
          ],
          "name": "stdout"
        }
      ]
    },
    {
      "metadata": {
        "id": "dkI9AM-kAyCI",
        "colab_type": "code",
        "colab": {
          "base_uri": "https://localhost:8080/",
          "height": 357
        },
        "outputId": "b7b32619-9331-491b-a06a-e4fffd5b00b3"
      },
      "cell_type": "code",
      "source": [
        "# memory footprint support libraries/code\n",
        "!ln -sf /opt/bin/nvidia-smi /usr/bin/nvidia-smi\n",
        "!pip install gputil\n",
        "!pip install psutil\n",
        "!pip install humanize\n"
      ],
      "execution_count": 1,
      "outputs": [
        {
          "output_type": "stream",
          "text": [
            "Collecting gputil\n",
            "  Downloading GPUtil-1.3.0.tar.gz\n",
            "Requirement already satisfied: numpy in /usr/local/lib/python3.6/dist-packages (from gputil)\n",
            "Building wheels for collected packages: gputil\n",
            "  Running setup.py bdist_wheel for gputil ... \u001b[?25l-\b \bdone\n",
            "\u001b[?25h  Stored in directory: /content/.cache/pip/wheels/0a/ed/09/b7ec4930123c4375c93fe7c151e17fc4a58fc98904d46766cd\n",
            "Successfully built gputil\n",
            "Installing collected packages: gputil\n",
            "Successfully installed gputil-1.3.0\n",
            "Requirement already satisfied: psutil in /usr/local/lib/python3.6/dist-packages\n",
            "Collecting humanize\n",
            "  Downloading humanize-0.5.1.tar.gz\n",
            "Building wheels for collected packages: humanize\n",
            "  Running setup.py bdist_wheel for humanize ... \u001b[?25l-\b \b\\\b \bdone\n",
            "\u001b[?25h  Stored in directory: /content/.cache/pip/wheels/d4/80/38/cfbfd95752f71f3812505b948b43383ddc99eedf835fc13b09\n",
            "Successfully built humanize\n",
            "Installing collected packages: humanize\n",
            "Successfully installed humanize-0.5.1\n",
            "Gen RAM Free: 12.7 GB  I Proc size: 131.9 MB\n",
            "GPU RAM Free: 11439MB | Used: 0MB | Util   0% | Total 11439MB\n"
          ],
          "name": "stdout"
        }
      ]
    },
    {
      "metadata": {
        "id": "SdFgwphNCI8c",
        "colab_type": "code",
        "colab": {
          "base_uri": "https://localhost:8080/",
          "height": 51
        },
        "outputId": "361f94b3-27cc-4fd7-88e4-af68e37d5ee6"
      },
      "cell_type": "code",
      "source": [
        "import psutil\n",
        "import humanize\n",
        "import os\n",
        "import GPUtil as GPU\n",
        "GPUs = GPU.getGPUs()\n",
        "# XXX: only one GPU on Colab and isn’t guaranteed\n",
        "gpu = GPUs[0]\n",
        "def printm():\n",
        " process = psutil.Process(os.getpid())\n",
        " print(\"Gen RAM Free: \" + humanize.naturalsize( psutil.virtual_memory().available ), \" I Proc size: \" + humanize.naturalsize( process.memory_info().rss))\n",
        " print(\"GPU RAM Free: {0:.0f}MB | Used: {1:.0f}MB | Util {2:3.0f}% | Total {3:.0f}MB\".format(gpu.memoryFree, gpu.memoryUsed, gpu.memoryUtil*100, gpu.memoryTotal))\n",
        "printm()"
      ],
      "execution_count": 2,
      "outputs": [
        {
          "output_type": "stream",
          "text": [
            "Gen RAM Free: 12.7 GB  I Proc size: 132.0 MB\n",
            "GPU RAM Free: 11439MB | Used: 0MB | Util   0% | Total 11439MB\n"
          ],
          "name": "stdout"
        }
      ]
    },
    {
      "metadata": {
        "id": "RjBpayOQBrIZ",
        "colab_type": "code",
        "colab": {}
      },
      "cell_type": "code",
      "source": [
        ""
      ],
      "execution_count": 0,
      "outputs": []
    },
    {
      "metadata": {
        "id": "YzbEf9B2Br06",
        "colab_type": "code",
        "colab": {}
      },
      "cell_type": "code",
      "source": [
        ""
      ],
      "execution_count": 0,
      "outputs": []
    },
    {
      "metadata": {
        "id": "C7KC0e-0Bsjx",
        "colab_type": "code",
        "colab": {}
      },
      "cell_type": "code",
      "source": [
        ""
      ],
      "execution_count": 0,
      "outputs": []
    },
    {
      "metadata": {
        "id": "IXgyq1vwQ4B8",
        "colab_type": "code",
        "colab": {
          "base_uri": "https://localhost:8080/",
          "height": 983
        },
        "outputId": "9cb70955-de4e-46a6-cbe9-12c84fb26b66"
      },
      "cell_type": "code",
      "source": [
        "#Load the data\n",
        "fips = [27000+i for i in range(1,174,2)]\n",
        "#print(fips)\n",
        "set_trace()\n",
        "pop = [np.random.randint(1,100) for i in range(0,len(fips))]\n",
        "#print(pop)\n",
        "prevalance = np.random.normal(size=100)"
      ],
      "execution_count": 9,
      "outputs": [
        {
          "output_type": "stream",
          "text": [
            "--Return--\n",
            "None\n",
            "> \u001b[0;32m<ipython-input-9-575ab364d5ce>\u001b[0m(3)\u001b[0;36m<module>\u001b[0;34m()\u001b[0m\n",
            "\u001b[0;32m      1 \u001b[0;31m\u001b[0mfips\u001b[0m \u001b[0;34m=\u001b[0m \u001b[0;34m[\u001b[0m\u001b[0;36m27000\u001b[0m\u001b[0;34m+\u001b[0m\u001b[0mi\u001b[0m \u001b[0;32mfor\u001b[0m \u001b[0mi\u001b[0m \u001b[0;32min\u001b[0m \u001b[0mrange\u001b[0m\u001b[0;34m(\u001b[0m\u001b[0;36m1\u001b[0m\u001b[0;34m,\u001b[0m\u001b[0;36m174\u001b[0m\u001b[0;34m,\u001b[0m\u001b[0;36m2\u001b[0m\u001b[0;34m)\u001b[0m\u001b[0;34m]\u001b[0m\u001b[0;34m\u001b[0m\u001b[0m\n",
            "\u001b[0m\u001b[0;32m      2 \u001b[0;31m\u001b[0;31m#print(fips)\u001b[0m\u001b[0;34m\u001b[0m\u001b[0;34m\u001b[0m\u001b[0m\n",
            "\u001b[0m\u001b[0;32m----> 3 \u001b[0;31m\u001b[0mset_trace\u001b[0m\u001b[0;34m(\u001b[0m\u001b[0;34m)\u001b[0m\u001b[0;34m\u001b[0m\u001b[0m\n",
            "\u001b[0m\u001b[0;32m      4 \u001b[0;31m\u001b[0mpop\u001b[0m \u001b[0;34m=\u001b[0m \u001b[0;34m[\u001b[0m\u001b[0mnp\u001b[0m\u001b[0;34m.\u001b[0m\u001b[0mrandom\u001b[0m\u001b[0;34m.\u001b[0m\u001b[0mrandint\u001b[0m\u001b[0;34m(\u001b[0m\u001b[0;36m1\u001b[0m\u001b[0;34m,\u001b[0m\u001b[0;36m100\u001b[0m\u001b[0;34m)\u001b[0m \u001b[0;32mfor\u001b[0m \u001b[0mi\u001b[0m \u001b[0;32min\u001b[0m \u001b[0mrange\u001b[0m\u001b[0;34m(\u001b[0m\u001b[0;36m0\u001b[0m\u001b[0;34m,\u001b[0m\u001b[0mlen\u001b[0m\u001b[0;34m(\u001b[0m\u001b[0mfips\u001b[0m\u001b[0;34m)\u001b[0m\u001b[0;34m)\u001b[0m\u001b[0;34m]\u001b[0m\u001b[0;34m\u001b[0m\u001b[0m\n",
            "\u001b[0m\u001b[0;32m      5 \u001b[0;31m\u001b[0;31m#print(pop)\u001b[0m\u001b[0;34m\u001b[0m\u001b[0;34m\u001b[0m\u001b[0m\n",
            "\u001b[0m\n",
            "ipdb> help\n",
            "\n",
            "Documented commands (type help <topic>):\n",
            "========================================\n",
            "EOF    cl         disable  interact  next    psource  rv         unt   \n",
            "a      clear      display  j         p       q        s          until \n",
            "alias  commands   down     jump      pdef    quit     source     up    \n",
            "args   condition  enable   l         pdoc    r        step       w     \n",
            "b      cont       exit     list      pfile   restart  tbreak     whatis\n",
            "break  continue   h        ll        pinfo   return   u          where \n",
            "bt     d          help     longlist  pinfo2  retval   unalias  \n",
            "c      debug      ignore   n         pp      run      undisplay\n",
            "\n",
            "Miscellaneous help topics:\n",
            "==========================\n",
            "exec  pdb\n",
            "\n",
            "ipdb> fips\n",
            "[27001, 27003, 27005, 27007, 27009, 27011, 27013, 27015, 27017, 27019, 27021, 27023, 27025, 27027, 27029, 27031, 27033, 27035, 27037, 27039, 27041, 27043, 27045, 27047, 27049, 27051, 27053, 27055, 27057, 27059, 27061, 27063, 27065, 27067, 27069, 27071, 27073, 27075, 27077, 27079, 27081, 27083, 27085, 27087, 27089, 27091, 27093, 27095, 27097, 27099, 27101, 27103, 27105, 27107, 27109, 27111, 27113, 27115, 27117, 27119, 27121, 27123, 27125, 27127, 27129, 27131, 27133, 27135, 27137, 27139, 27141, 27143, 27145, 27147, 27149, 27151, 27153, 27155, 27157, 27159, 27161, 27163, 27165, 27167, 27169, 27171, 27173]\n",
            "ipdb> exit\n"
          ],
          "name": "stdout"
        },
        {
          "output_type": "error",
          "ename": "BdbQuit",
          "evalue": "ignored",
          "traceback": [
            "\u001b[0;31m---------------------------------------------------------------------------\u001b[0m",
            "\u001b[0;31mBdbQuit\u001b[0m                                   Traceback (most recent call last)",
            "\u001b[0;32m<ipython-input-9-575ab364d5ce>\u001b[0m in \u001b[0;36m<module>\u001b[0;34m()\u001b[0m\n\u001b[1;32m      1\u001b[0m \u001b[0mfips\u001b[0m \u001b[0;34m=\u001b[0m \u001b[0;34m[\u001b[0m\u001b[0;36m27000\u001b[0m\u001b[0;34m+\u001b[0m\u001b[0mi\u001b[0m \u001b[0;32mfor\u001b[0m \u001b[0mi\u001b[0m \u001b[0;32min\u001b[0m \u001b[0mrange\u001b[0m\u001b[0;34m(\u001b[0m\u001b[0;36m1\u001b[0m\u001b[0;34m,\u001b[0m\u001b[0;36m174\u001b[0m\u001b[0;34m,\u001b[0m\u001b[0;36m2\u001b[0m\u001b[0;34m)\u001b[0m\u001b[0;34m]\u001b[0m\u001b[0;34m\u001b[0m\u001b[0m\n\u001b[1;32m      2\u001b[0m \u001b[0;31m#print(fips)\u001b[0m\u001b[0;34m\u001b[0m\u001b[0;34m\u001b[0m\u001b[0m\n\u001b[0;32m----> 3\u001b[0;31m \u001b[0mset_trace\u001b[0m\u001b[0;34m(\u001b[0m\u001b[0;34m)\u001b[0m\u001b[0;34m\u001b[0m\u001b[0m\n\u001b[0m\u001b[1;32m      4\u001b[0m \u001b[0mpop\u001b[0m \u001b[0;34m=\u001b[0m \u001b[0;34m[\u001b[0m\u001b[0mnp\u001b[0m\u001b[0;34m.\u001b[0m\u001b[0mrandom\u001b[0m\u001b[0;34m.\u001b[0m\u001b[0mrandint\u001b[0m\u001b[0;34m(\u001b[0m\u001b[0;36m1\u001b[0m\u001b[0;34m,\u001b[0m\u001b[0;36m100\u001b[0m\u001b[0;34m)\u001b[0m \u001b[0;32mfor\u001b[0m \u001b[0mi\u001b[0m \u001b[0;32min\u001b[0m \u001b[0mrange\u001b[0m\u001b[0;34m(\u001b[0m\u001b[0;36m0\u001b[0m\u001b[0;34m,\u001b[0m\u001b[0mlen\u001b[0m\u001b[0;34m(\u001b[0m\u001b[0mfips\u001b[0m\u001b[0;34m)\u001b[0m\u001b[0;34m)\u001b[0m\u001b[0;34m]\u001b[0m\u001b[0;34m\u001b[0m\u001b[0m\n\u001b[1;32m      5\u001b[0m \u001b[0;31m#print(pop)\u001b[0m\u001b[0;34m\u001b[0m\u001b[0;34m\u001b[0m\u001b[0m\n",
            "\u001b[0;32m/usr/lib/python3.6/bdb.py\u001b[0m in \u001b[0;36mtrace_dispatch\u001b[0;34m(self, frame, event, arg)\u001b[0m\n\u001b[1;32m     50\u001b[0m             \u001b[0;32mreturn\u001b[0m \u001b[0mself\u001b[0m\u001b[0;34m.\u001b[0m\u001b[0mdispatch_call\u001b[0m\u001b[0;34m(\u001b[0m\u001b[0mframe\u001b[0m\u001b[0;34m,\u001b[0m \u001b[0marg\u001b[0m\u001b[0;34m)\u001b[0m\u001b[0;34m\u001b[0m\u001b[0m\n\u001b[1;32m     51\u001b[0m         \u001b[0;32mif\u001b[0m \u001b[0mevent\u001b[0m \u001b[0;34m==\u001b[0m \u001b[0;34m'return'\u001b[0m\u001b[0;34m:\u001b[0m\u001b[0;34m\u001b[0m\u001b[0m\n\u001b[0;32m---> 52\u001b[0;31m             \u001b[0;32mreturn\u001b[0m \u001b[0mself\u001b[0m\u001b[0;34m.\u001b[0m\u001b[0mdispatch_return\u001b[0m\u001b[0;34m(\u001b[0m\u001b[0mframe\u001b[0m\u001b[0;34m,\u001b[0m \u001b[0marg\u001b[0m\u001b[0;34m)\u001b[0m\u001b[0;34m\u001b[0m\u001b[0m\n\u001b[0m\u001b[1;32m     53\u001b[0m         \u001b[0;32mif\u001b[0m \u001b[0mevent\u001b[0m \u001b[0;34m==\u001b[0m \u001b[0;34m'exception'\u001b[0m\u001b[0;34m:\u001b[0m\u001b[0;34m\u001b[0m\u001b[0m\n\u001b[1;32m     54\u001b[0m             \u001b[0;32mreturn\u001b[0m \u001b[0mself\u001b[0m\u001b[0;34m.\u001b[0m\u001b[0mdispatch_exception\u001b[0m\u001b[0;34m(\u001b[0m\u001b[0mframe\u001b[0m\u001b[0;34m,\u001b[0m \u001b[0marg\u001b[0m\u001b[0;34m)\u001b[0m\u001b[0;34m\u001b[0m\u001b[0m\n",
            "\u001b[0;32m/usr/lib/python3.6/bdb.py\u001b[0m in \u001b[0;36mdispatch_return\u001b[0;34m(self, frame, arg)\u001b[0m\n\u001b[1;32m     94\u001b[0m             \u001b[0;32mfinally\u001b[0m\u001b[0;34m:\u001b[0m\u001b[0;34m\u001b[0m\u001b[0m\n\u001b[1;32m     95\u001b[0m                 \u001b[0mself\u001b[0m\u001b[0;34m.\u001b[0m\u001b[0mframe_returning\u001b[0m \u001b[0;34m=\u001b[0m \u001b[0;32mNone\u001b[0m\u001b[0;34m\u001b[0m\u001b[0m\n\u001b[0;32m---> 96\u001b[0;31m             \u001b[0;32mif\u001b[0m \u001b[0mself\u001b[0m\u001b[0;34m.\u001b[0m\u001b[0mquitting\u001b[0m\u001b[0;34m:\u001b[0m \u001b[0;32mraise\u001b[0m \u001b[0mBdbQuit\u001b[0m\u001b[0;34m\u001b[0m\u001b[0m\n\u001b[0m\u001b[1;32m     97\u001b[0m             \u001b[0;31m# The user issued a 'next' or 'until' command.\u001b[0m\u001b[0;34m\u001b[0m\u001b[0;34m\u001b[0m\u001b[0m\n\u001b[1;32m     98\u001b[0m             \u001b[0;32mif\u001b[0m \u001b[0mself\u001b[0m\u001b[0;34m.\u001b[0m\u001b[0mstopframe\u001b[0m \u001b[0;32mis\u001b[0m \u001b[0mframe\u001b[0m \u001b[0;32mand\u001b[0m \u001b[0mself\u001b[0m\u001b[0;34m.\u001b[0m\u001b[0mstoplineno\u001b[0m \u001b[0;34m!=\u001b[0m \u001b[0;34m-\u001b[0m\u001b[0;36m1\u001b[0m\u001b[0;34m:\u001b[0m\u001b[0;34m\u001b[0m\u001b[0m\n",
            "\u001b[0;31mBdbQuit\u001b[0m: "
          ]
        }
      ]
    },
    {
      "metadata": {
        "id": "sH2XoskpQ4B9",
        "colab_type": "text"
      },
      "cell_type": "markdown",
      "source": [
        "# 2.0 Load Data\n",
        "Load the patient and observations (labs) data from the .csv file that we received from the extract.  Convert dates and other fields to the proper format when reading the file.\n",
        "\n",
        "Displaying the first 5 rows of the data is a good way to look for obvious issues before working with the data in more detail."
      ]
    },
    {
      "metadata": {
        "id": "0zHVUf2-Q4B-",
        "colab_type": "code",
        "colab": {
          "base_uri": "https://localhost:8080/",
          "height": 320
        },
        "outputId": "1ac1e4d5-111f-4d5a-bc44-958cb08a180c"
      },
      "cell_type": "code",
      "source": [
        "patients = pd.read_csv(datadir + '/patients.csv', index_col=0, header=0, parse_dates=[1,2])\n",
        "observations = pd.read_csv(datadir + '/observations.csv', index_col=2, header=0, parse_dates=[0])\n",
        "patients.head(5)"
      ],
      "execution_count": 9,
      "outputs": [
        {
          "output_type": "execute_result",
          "data": {
            "text/html": [
              "<div>\n",
              "<style scoped>\n",
              "    .dataframe tbody tr th:only-of-type {\n",
              "        vertical-align: middle;\n",
              "    }\n",
              "\n",
              "    .dataframe tbody tr th {\n",
              "        vertical-align: top;\n",
              "    }\n",
              "\n",
              "    .dataframe thead th {\n",
              "        text-align: right;\n",
              "    }\n",
              "</style>\n",
              "<table border=\"1\" class=\"dataframe\">\n",
              "  <thead>\n",
              "    <tr style=\"text-align: right;\">\n",
              "      <th></th>\n",
              "      <th>BIRTHDATE</th>\n",
              "      <th>DEATHDATE</th>\n",
              "      <th>SSN</th>\n",
              "      <th>DRIVERS</th>\n",
              "      <th>PASSPORT</th>\n",
              "      <th>PREFIX</th>\n",
              "      <th>FIRST</th>\n",
              "      <th>LAST</th>\n",
              "      <th>SUFFIX</th>\n",
              "      <th>MAIDEN</th>\n",
              "      <th>MARITAL</th>\n",
              "      <th>RACE</th>\n",
              "      <th>ETHNICITY</th>\n",
              "      <th>GENDER</th>\n",
              "      <th>BIRTHPLACE</th>\n",
              "      <th>ADDRESS</th>\n",
              "    </tr>\n",
              "    <tr>\n",
              "      <th>ID</th>\n",
              "      <th></th>\n",
              "      <th></th>\n",
              "      <th></th>\n",
              "      <th></th>\n",
              "      <th></th>\n",
              "      <th></th>\n",
              "      <th></th>\n",
              "      <th></th>\n",
              "      <th></th>\n",
              "      <th></th>\n",
              "      <th></th>\n",
              "      <th></th>\n",
              "      <th></th>\n",
              "      <th></th>\n",
              "      <th></th>\n",
              "      <th></th>\n",
              "    </tr>\n",
              "  </thead>\n",
              "  <tbody>\n",
              "    <tr>\n",
              "      <th>545be6f8-8796-496a-ac87-9919542f724e</th>\n",
              "      <td>2004-02-18</td>\n",
              "      <td>NaT</td>\n",
              "      <td>999-22-9579</td>\n",
              "      <td>NaN</td>\n",
              "      <td>NaN</td>\n",
              "      <td>NaN</td>\n",
              "      <td>Noble66</td>\n",
              "      <td>Hintz995</td>\n",
              "      <td>NaN</td>\n",
              "      <td>NaN</td>\n",
              "      <td>NaN</td>\n",
              "      <td>white</td>\n",
              "      <td>french</td>\n",
              "      <td>M</td>\n",
              "      <td>Dell Groveship</td>\n",
              "      <td>740 Schmidt Heights Apt 24 Apple Valley Minnes...</td>\n",
              "    </tr>\n",
              "    <tr>\n",
              "      <th>7e354bf5-99c6-413d-b37c-b779dd103583</th>\n",
              "      <td>1996-05-28</td>\n",
              "      <td>NaT</td>\n",
              "      <td>999-93-9114</td>\n",
              "      <td>S99976555</td>\n",
              "      <td>X29508953X</td>\n",
              "      <td>Mr.</td>\n",
              "      <td>Colin861</td>\n",
              "      <td>Barrows492</td>\n",
              "      <td>NaN</td>\n",
              "      <td>NaN</td>\n",
              "      <td>NaN</td>\n",
              "      <td>white</td>\n",
              "      <td>polish</td>\n",
              "      <td>M</td>\n",
              "      <td>St. Louis Park</td>\n",
              "      <td>724 Anderson Route Apt 49 Dovership Minnesota  US</td>\n",
              "    </tr>\n",
              "    <tr>\n",
              "      <th>f86ec82d-004a-46df-8cdb-4226abd6886d</th>\n",
              "      <td>2014-11-07</td>\n",
              "      <td>NaT</td>\n",
              "      <td>999-84-5231</td>\n",
              "      <td>NaN</td>\n",
              "      <td>NaN</td>\n",
              "      <td>NaN</td>\n",
              "      <td>Ashley34</td>\n",
              "      <td>Becker968</td>\n",
              "      <td>NaN</td>\n",
              "      <td>NaN</td>\n",
              "      <td>NaN</td>\n",
              "      <td>white</td>\n",
              "      <td>german</td>\n",
              "      <td>F</td>\n",
              "      <td>Huntership</td>\n",
              "      <td>775 Prosacco Ville Minneapolis Minnesota 55401 US</td>\n",
              "    </tr>\n",
              "    <tr>\n",
              "      <th>556e6a09-12c0-40fc-8f68-9989df047485</th>\n",
              "      <td>1959-10-29</td>\n",
              "      <td>2004-10-21</td>\n",
              "      <td>999-79-5940</td>\n",
              "      <td>S99947417</td>\n",
              "      <td>X40810024X</td>\n",
              "      <td>Mr.</td>\n",
              "      <td>Randolph418</td>\n",
              "      <td>Runolfsson901</td>\n",
              "      <td>NaN</td>\n",
              "      <td>NaN</td>\n",
              "      <td>M</td>\n",
              "      <td>white</td>\n",
              "      <td>greek</td>\n",
              "      <td>M</td>\n",
              "      <td>St. Cloud</td>\n",
              "      <td>577 Prohaska Drive Unit 73 Lino Lakes Minnesot...</td>\n",
              "    </tr>\n",
              "    <tr>\n",
              "      <th>58ec9442-891c-4855-9008-3e8d700eb5b8</th>\n",
              "      <td>2004-06-03</td>\n",
              "      <td>NaT</td>\n",
              "      <td>999-48-8276</td>\n",
              "      <td>NaN</td>\n",
              "      <td>NaN</td>\n",
              "      <td>NaN</td>\n",
              "      <td>Lili474</td>\n",
              "      <td>Johns824</td>\n",
              "      <td>NaN</td>\n",
              "      <td>NaN</td>\n",
              "      <td>NaN</td>\n",
              "      <td>white</td>\n",
              "      <td>german</td>\n",
              "      <td>F</td>\n",
              "      <td>Bloomington</td>\n",
              "      <td>303 Mertz Esplanade Edina Minnesota 55343 US</td>\n",
              "    </tr>\n",
              "  </tbody>\n",
              "</table>\n",
              "</div>"
            ],
            "text/plain": [
              "                                      BIRTHDATE  DEATHDATE          SSN  \\\n",
              "ID                                                                        \n",
              "545be6f8-8796-496a-ac87-9919542f724e 2004-02-18        NaT  999-22-9579   \n",
              "7e354bf5-99c6-413d-b37c-b779dd103583 1996-05-28        NaT  999-93-9114   \n",
              "f86ec82d-004a-46df-8cdb-4226abd6886d 2014-11-07        NaT  999-84-5231   \n",
              "556e6a09-12c0-40fc-8f68-9989df047485 1959-10-29 2004-10-21  999-79-5940   \n",
              "58ec9442-891c-4855-9008-3e8d700eb5b8 2004-06-03        NaT  999-48-8276   \n",
              "\n",
              "                                        DRIVERS    PASSPORT PREFIX  \\\n",
              "ID                                                                   \n",
              "545be6f8-8796-496a-ac87-9919542f724e        NaN         NaN    NaN   \n",
              "7e354bf5-99c6-413d-b37c-b779dd103583  S99976555  X29508953X    Mr.   \n",
              "f86ec82d-004a-46df-8cdb-4226abd6886d        NaN         NaN    NaN   \n",
              "556e6a09-12c0-40fc-8f68-9989df047485  S99947417  X40810024X    Mr.   \n",
              "58ec9442-891c-4855-9008-3e8d700eb5b8        NaN         NaN    NaN   \n",
              "\n",
              "                                            FIRST           LAST SUFFIX  \\\n",
              "ID                                                                        \n",
              "545be6f8-8796-496a-ac87-9919542f724e      Noble66       Hintz995    NaN   \n",
              "7e354bf5-99c6-413d-b37c-b779dd103583     Colin861     Barrows492    NaN   \n",
              "f86ec82d-004a-46df-8cdb-4226abd6886d     Ashley34      Becker968    NaN   \n",
              "556e6a09-12c0-40fc-8f68-9989df047485  Randolph418  Runolfsson901    NaN   \n",
              "58ec9442-891c-4855-9008-3e8d700eb5b8      Lili474       Johns824    NaN   \n",
              "\n",
              "                                     MAIDEN MARITAL   RACE ETHNICITY GENDER  \\\n",
              "ID                                                                            \n",
              "545be6f8-8796-496a-ac87-9919542f724e    NaN     NaN  white    french      M   \n",
              "7e354bf5-99c6-413d-b37c-b779dd103583    NaN     NaN  white    polish      M   \n",
              "f86ec82d-004a-46df-8cdb-4226abd6886d    NaN     NaN  white    german      F   \n",
              "556e6a09-12c0-40fc-8f68-9989df047485    NaN       M  white     greek      M   \n",
              "58ec9442-891c-4855-9008-3e8d700eb5b8    NaN     NaN  white    german      F   \n",
              "\n",
              "                                          BIRTHPLACE  \\\n",
              "ID                                                     \n",
              "545be6f8-8796-496a-ac87-9919542f724e  Dell Groveship   \n",
              "7e354bf5-99c6-413d-b37c-b779dd103583  St. Louis Park   \n",
              "f86ec82d-004a-46df-8cdb-4226abd6886d      Huntership   \n",
              "556e6a09-12c0-40fc-8f68-9989df047485       St. Cloud   \n",
              "58ec9442-891c-4855-9008-3e8d700eb5b8     Bloomington   \n",
              "\n",
              "                                                                                ADDRESS  \n",
              "ID                                                                                       \n",
              "545be6f8-8796-496a-ac87-9919542f724e  740 Schmidt Heights Apt 24 Apple Valley Minnes...  \n",
              "7e354bf5-99c6-413d-b37c-b779dd103583  724 Anderson Route Apt 49 Dovership Minnesota  US  \n",
              "f86ec82d-004a-46df-8cdb-4226abd6886d  775 Prosacco Ville Minneapolis Minnesota 55401 US  \n",
              "556e6a09-12c0-40fc-8f68-9989df047485  577 Prohaska Drive Unit 73 Lino Lakes Minnesot...  \n",
              "58ec9442-891c-4855-9008-3e8d700eb5b8       303 Mertz Esplanade Edina Minnesota 55343 US  "
            ]
          },
          "metadata": {
            "tags": []
          },
          "execution_count": 9
        }
      ]
    },
    {
      "metadata": {
        "id": "r0IIIPwvQ4CC",
        "colab_type": "text"
      },
      "cell_type": "markdown",
      "source": [
        "# 3.0 Exploratory Data Analysis\n",
        "\n",
        "Use the power of Matplotlib, Seaborn and Plotly to easily explore the data through rich visualizations including graphs, distributions and maps of the data.\n",
        "\n",
        "The graphs are interactive through hovering and selecting of elements.  The graphic can be exported to be included in other documents."
      ]
    },
    {
      "metadata": {
        "id": "T1qpoudxQ4CD",
        "colab_type": "code",
        "colab": {
          "base_uri": "https://localhost:8080/",
          "height": 232
        },
        "outputId": "911220eb-a436-418e-e8ce-fe9d5d7f59b9"
      },
      "cell_type": "code",
      "source": [
        "values = pop\n",
        "endpts = list(np.mgrid[min(values):max(values):4j])\n",
        "\n",
        "colorscale = [\"#030512\",\"#1d1d3b\",\"#323268\",\"#3d4b94\",\"#3e6ab0\",\n",
        "              \"#4989bc\",\"#60a7c7\",\"#85c5d3\",\"#b7e0e4\",\"#eafcfd\"]  # Blues\n",
        "colorscale = [\n",
        "    'rgb(68.0, 1.0, 84.0)',\n",
        "    'rgb(66.0, 64.0, 134.0)',\n",
        "    'rgb(38.0, 130.0, 142.0)',\n",
        "    'rgb(63.0, 188.0, 115.0)',\n",
        "    'rgb(216.0, 226.0, 25.0)'\n",
        "]  # Green / Yellow\n",
        "\n",
        "fig = ff.create_choropleth(\n",
        "    fips=fips, values=values, scope=['Minnesota'], show_state_data=True,\n",
        "    colorscale=colorscale, \n",
        "    binning_endpoints=endpts, \n",
        "    round_legend_values=True,\n",
        "    plot_bgcolor='rgb(229,229,229)',\n",
        "    paper_bgcolor='rgb(229,229,229)',\n",
        "    legend_title='Prevalance by County',\n",
        "    county_outline={'color': 'rgb(0,0,0)', 'width': 0.5},\n",
        "    state_outline={'color': 'rgb(0,0,0)', 'width': 1},\n",
        "    exponent_format=True,\n",
        ")\n",
        "\n",
        "iplot(fig, filename='choropleth_MN')"
      ],
      "execution_count": 10,
      "outputs": [
        {
          "output_type": "error",
          "ename": "NameError",
          "evalue": "ignored",
          "traceback": [
            "\u001b[0;31m---------------------------------------------------------------------------\u001b[0m",
            "\u001b[0;31mNameError\u001b[0m                                 Traceback (most recent call last)",
            "\u001b[0;32m<ipython-input-10-5fdef6739498>\u001b[0m in \u001b[0;36m<module>\u001b[0;34m()\u001b[0m\n\u001b[1;32m     12\u001b[0m ]  # Green / Yellow\n\u001b[1;32m     13\u001b[0m \u001b[0;34m\u001b[0m\u001b[0m\n\u001b[0;32m---> 14\u001b[0;31m fig = ff.create_choropleth(\n\u001b[0m\u001b[1;32m     15\u001b[0m     \u001b[0mfips\u001b[0m\u001b[0;34m=\u001b[0m\u001b[0mfips\u001b[0m\u001b[0;34m,\u001b[0m \u001b[0mvalues\u001b[0m\u001b[0;34m=\u001b[0m\u001b[0mvalues\u001b[0m\u001b[0;34m,\u001b[0m \u001b[0mscope\u001b[0m\u001b[0;34m=\u001b[0m\u001b[0;34m[\u001b[0m\u001b[0;34m'Minnesota'\u001b[0m\u001b[0;34m]\u001b[0m\u001b[0;34m,\u001b[0m \u001b[0mshow_state_data\u001b[0m\u001b[0;34m=\u001b[0m\u001b[0;32mTrue\u001b[0m\u001b[0;34m,\u001b[0m\u001b[0;34m\u001b[0m\u001b[0m\n\u001b[1;32m     16\u001b[0m     \u001b[0mcolorscale\u001b[0m\u001b[0;34m=\u001b[0m\u001b[0mcolorscale\u001b[0m\u001b[0;34m,\u001b[0m\u001b[0;34m\u001b[0m\u001b[0m\n",
            "\u001b[0;31mNameError\u001b[0m: name 'ff' is not defined"
          ]
        }
      ]
    },
    {
      "metadata": {
        "id": "9MvrZFFKQ4CN",
        "colab_type": "code",
        "colab": {
          "base_uri": "https://localhost:8080/",
          "height": 364
        },
        "outputId": "9b79f78c-2c71-4b7f-fe47-f307192bc4fb"
      },
      "cell_type": "code",
      "source": [
        "sns.countplot(x='RACE', data=patients)"
      ],
      "execution_count": 11,
      "outputs": [
        {
          "output_type": "stream",
          "text": [
            "/usr/local/lib/python3.6/dist-packages/seaborn/categorical.py:1428: FutureWarning:\n",
            "\n",
            "remove_na is deprecated and is a private function. Do not use.\n",
            "\n"
          ],
          "name": "stderr"
        },
        {
          "output_type": "execute_result",
          "data": {
            "text/plain": [
              "<matplotlib.axes._subplots.AxesSubplot at 0x7ff44ceba630>"
            ]
          },
          "metadata": {
            "tags": []
          },
          "execution_count": 11
        },
        {
          "output_type": "display_data",
          "data": {
            "image/png": "[encoded data removed]",
            "text/plain": [
              "<matplotlib.figure.Figure at 0x7ff44d5b1da0>"
            ]
          },
          "metadata": {
            "tags": []
          }
        }
      ]
    },
    {
      "metadata": {
        "id": "643yg4G9Q4CP",
        "colab_type": "code",
        "colab": {
          "base_uri": "https://localhost:8080/",
          "height": 399
        },
        "outputId": "76bb24fe-4dc8-4455-f2fd-1c052cc60d3c"
      },
      "cell_type": "code",
      "source": [
        "g = sns.countplot(x='ETHNICITY', data=patients)\n",
        "z = plt.xticks(rotation=-45)"
      ],
      "execution_count": 12,
      "outputs": [
        {
          "output_type": "stream",
          "text": [
            "/usr/local/lib/python3.6/dist-packages/seaborn/categorical.py:1428: FutureWarning:\n",
            "\n",
            "remove_na is deprecated and is a private function. Do not use.\n",
            "\n"
          ],
          "name": "stderr"
        },
        {
          "output_type": "display_data",
          "data": {
            "image/png": "[encoded data removed]",
            "text/plain": [
              "<matplotlib.figure.Figure at 0x7ff44cc999b0>"
            ]
          },
          "metadata": {
            "tags": []
          }
        }
      ]
    },
    {
      "metadata": {
        "id": "oQ5MJQ5_Q4CR",
        "colab_type": "code",
        "colab": {
          "base_uri": "https://localhost:8080/",
          "height": 282
        },
        "outputId": "66d124a7-efb5-4bfd-e8e1-0cc61521978d"
      },
      "cell_type": "code",
      "source": [
        "sns.distplot(prevalance)"
      ],
      "execution_count": 13,
      "outputs": [
        {
          "output_type": "execute_result",
          "data": {
            "text/plain": [
              "<matplotlib.axes._subplots.AxesSubplot at 0x7ff44ac030f0>"
            ]
          },
          "metadata": {
            "tags": []
          },
          "execution_count": 13
        },
        {
          "output_type": "display_data",
          "data": {
            "image/png": "[encoded data removed]",
            "text/plain": [
              "<matplotlib.figure.Figure at 0x7ff44ac0da58>"
            ]
          },
          "metadata": {
            "tags": []
          }
        }
      ]
    },
    {
      "metadata": {
        "id": "3QWg5KllQ4CW",
        "colab_type": "text"
      },
      "cell_type": "markdown",
      "source": [
        "# 3.0 Transform the Data\n",
        "\n",
        "Use the power of Pandas Dataframes to transform the data.  Add new columns as calculations from existing columns, join the data together and get it into the format you need for analysis."
      ]
    },
    {
      "metadata": {
        "id": "qBUbBaWkQ4CW",
        "colab_type": "code",
        "colab": {}
      },
      "cell_type": "code",
      "source": [
        "obs = pd.merge(observations, patients, left_on='PATIENT', how='left', right_index=True, indicator=True)\n",
        "obs['age_at_visit'] = round((pd.to_datetime(obs['DATE']) - pd.to_datetime(obs['BIRTHDATE'])).dt.days/365)\n",
        "obs['adult'] = np.where(obs['age_at_visit'] >= 18, True, False)\n",
        "#obs[obs['adult']].head(5)"
      ],
      "execution_count": 0,
      "outputs": []
    },
    {
      "metadata": {
        "id": "HQqNh0dgQ4CZ",
        "colab_type": "code",
        "colab": {
          "base_uri": "https://localhost:8080/",
          "height": 316
        },
        "outputId": "9492b204-2f86-462a-9072-980f9ff06b59"
      },
      "cell_type": "code",
      "source": [
        "w = obs[obs['CODE']=='29463-7']\n",
        "print('Number of patients: {:,}'.format(len(w)))\n",
        "weights = w['VALUE'].astype(np.float)\n",
        "mean = np.mean(weights)\n",
        "print('Avg weight: ',mean)\n",
        "sns.distplot(weights)\n",
        "plt.xlabel(\"WEIGHT (kg)\")\n",
        "plt.show()"
      ],
      "execution_count": 15,
      "outputs": [
        {
          "output_type": "stream",
          "text": [
            "Number of patients: 10,506\n",
            "Avg weight:  71.1310965162764\n"
          ],
          "name": "stdout"
        },
        {
          "output_type": "display_data",
          "data": {
            "image/png": "[encoded data removed]",
            "text/plain": [
              "<matplotlib.figure.Figure at 0x7ff44abd3630>"
            ]
          },
          "metadata": {
            "tags": []
          }
        }
      ]
    },
    {
      "metadata": {
        "id": "ptsx0e5DQ4Cf",
        "colab_type": "code",
        "colab": {
          "base_uri": "https://localhost:8080/",
          "height": 454
        },
        "outputId": "72d2e9de-27bf-448c-aa8b-99725a3f96de"
      },
      "cell_type": "code",
      "source": [
        "weight_obs = pd.DataFrame()\n",
        "weight_obs['gender'] = obs['GENDER']\n",
        "weight_obs['value'] = weights\n",
        "weight_obs['adult'] = obs['adult']\n",
        "sns.set(style=\"darkgrid\")\n",
        "g = sns.FacetGrid(weight_obs, row= 'adult', col='gender', margin_titles=True)\n",
        "bins = np.linspace(0, 60, 13)\n",
        "g.map(plt.hist, 'value', color=\"steelblue\", lw=0, normed=True)"
      ],
      "execution_count": 16,
      "outputs": [
        {
          "output_type": "execute_result",
          "data": {
            "text/plain": [
              "<seaborn.axisgrid.FacetGrid at 0x7ff44aac7940>"
            ]
          },
          "metadata": {
            "tags": []
          },
          "execution_count": 16
        },
        {
          "output_type": "display_data",
          "data": {
            "image/png": "[encoded data removed]",
            "text/plain": [
              "<matplotlib.figure.Figure at 0x7ff44aac7240>"
            ]
          },
          "metadata": {
            "tags": []
          }
        }
      ]
    }
  ]
}