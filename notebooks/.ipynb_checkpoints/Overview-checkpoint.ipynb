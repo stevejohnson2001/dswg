{
 "cells": [
  {
   "cell_type": "markdown",
   "metadata": {},
   "source": [
    "# Data Science Workshop\n",
    "\n",
    "1. [Jupyter Notebook Overview]\n",
    "1. [Understand the Research Question]\n",
    "\n",
    "1. [Exploratory Data Analysis](http://localhost:8888/notebooks/work/dswg/notebooks/Exploratory%20Data%20Analysis.ipynb)\n",
    "2. [Data Preparation](http://localhost:8888/notebooks/work/dswg/notebooks/Data%20Preparation.ipynb)\n",
    "1. [Feature Selection](http://localhost:8888/notebooks/work/dswg/notebooks/Feature%20Selection.ipynb)\n",
    "3. [Modeling / Analytics](http://localhost:8888/notebooks/work/dswg/notebooks/Modeling%20and%20Analytics.ipynb)\n",
    "1. [Model Evaluation]\n",
    "5. [Deployment]\n",
    "\n",
    "# Utility Notebooks\n",
    "2. [Video](http://localhost:8888/notebooks/work/dswg/notebooks/Data%2BScience%2BWorkshop%2BVideo.ipynb)\n",
    "5. [Create Data](http://localhost:8888/notebooks/work/dswg/notebooks/Create%20Data.ipynb)"
   ]
  },
  {
   "cell_type": "markdown",
   "metadata": {},
   "source": []
  }
 ],
 "metadata": {
  "kernelspec": {
   "display_name": "R",
   "language": "R",
   "name": "ir"
  },
  "language_info": {
   "codemirror_mode": "r",
   "file_extension": ".r",
   "mimetype": "text/x-r-source",
   "name": "R",
   "pygments_lexer": "r",
   "version": "3.3.2"
  }
 },
 "nbformat": 4,
 "nbformat_minor": 2
}
